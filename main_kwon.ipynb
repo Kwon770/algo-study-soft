{
 "cells": [
  {
   "cell_type": "code",
   "execution_count": 13,
   "id": "9320e4a2",
   "metadata": {},
   "outputs": [
    {
     "name": "stdout",
     "output_type": "stream",
     "text": [
      "11101101\n",
      "2\n"
     ]
    }
   ],
   "source": [
    "string = input()\n",
    "\n",
    "zero_part = 0\n",
    "one_part = 0\n",
    "prev_part = -1\n",
    "    \n",
    "\n",
    "for char in string:\n",
    "    if prev_part != char:    \n",
    "        if char == \"0\":\n",
    "            zero_part += 1\n",
    "        else:\n",
    "            one_part += 1\n",
    "            \n",
    "            \n",
    "    prev_part = char\n",
    "    \n",
    "            \n",
    "print(min(zero_part, one_part))\n"
   ]
  }
 ],
 "metadata": {
  "kernelspec": {
   "display_name": "Python 3 (ipykernel)",
   "language": "python",
   "name": "python3"
  },
  "language_info": {
   "codemirror_mode": {
    "name": "ipython",
    "version": 3
   },
   "file_extension": ".py",
   "mimetype": "text/x-python",
   "name": "python",
   "nbconvert_exporter": "python",
   "pygments_lexer": "ipython3",
   "version": "3.9.9"
  }
 },
 "nbformat": 4,
 "nbformat_minor": 5
}
