{
 "cells": [
  {
   "cell_type": "code",
   "execution_count": 51,
   "id": "9320e4a2",
   "metadata": {},
   "outputs": [
    {
     "name": "stdout",
     "output_type": "stream",
     "text": [
      "-3 2 1\n",
      "None\n"
     ]
    }
   ],
   "source": [
    "def solution(food_times, k):\n",
    "    if k == 0:\n",
    "        return 1\n",
    "    \n",
    "    times = sorted(food_times)\n",
    "    prevTime = 0\n",
    "    prevIdx = 0\n",
    "    localK = k\n",
    "    \n",
    "    for i in range(1, len(times)):\n",
    "        \n",
    "        if times[i-1] != times[i]:\n",
    "            size = len(times) - prevIdx\n",
    "            time = times[i-1] - prevTime\n",
    "            \n",
    "            localK -= size * time\n",
    "            \n",
    "            prevTime = times[i-1]\n",
    "            \n",
    "            prevIdx = i\n",
    "            \n",
    "            \n",
    "            \n",
    "            print(localK, time, i)\n",
    "            \n",
    "        if localK < len(times) - i:\n",
    "            break\n",
    "            \n",
    "    \n",
    "    for idx, t in enumerate(food_times):\n",
    "        if t <= prevTime:\n",
    "            continue\n",
    "            \n",
    "        if localK == 0:\n",
    "            return idx+1\n",
    "        \n",
    "        localK -= 1\n",
    "        \n",
    "        \n",
    "    if localK >= 0:\n",
    "        return -1\n",
    "\n",
    "print(solution([4,3,5,6,2], 7))"
   ]
  },
  {
   "cell_type": "code",
   "execution_count": null,
   "id": "25b0c39f",
   "metadata": {},
   "outputs": [],
   "source": [
    "def solution(food_times, k):\n",
    "    i = 0\n",
    "    while sum(food_times) != 0:\n",
    "        print(sum(food_times))\n",
    "        \n",
    "        if food_times[i] == 0:\n",
    "            continue\n",
    "            \n",
    "        food_times[i] -= 1\n",
    "        k -= 1\n",
    "        \n",
    "        if k == 0:\n",
    "            return i+1\n",
    "        \n",
    "        i += 1\n",
    "        if i == len(food_times):\n",
    "            i = 0\n",
    "        \n",
    "    return -1\n",
    "\n",
    "\n",
    "print(solution([3,1,2], 5))\n"
   ]
  },
  {
   "cell_type": "code",
   "execution_count": 53,
   "id": "e7332f14",
   "metadata": {},
   "outputs": [
    {
     "data": {
      "text/plain": [
       "3"
      ]
     },
     "execution_count": 53,
     "metadata": {},
     "output_type": "execute_result"
    }
   ],
   "source": []
  }
 ],
 "metadata": {
  "kernelspec": {
   "display_name": "Python 3 (ipykernel)",
   "language": "python",
   "name": "python3"
  },
  "language_info": {
   "codemirror_mode": {
    "name": "ipython",
    "version": 3
   },
   "file_extension": ".py",
   "mimetype": "text/x-python",
   "name": "python",
   "nbconvert_exporter": "python",
   "pygments_lexer": "ipython3",
   "version": "3.9.9"
  }
 },
 "nbformat": 4,
 "nbformat_minor": 5
}
