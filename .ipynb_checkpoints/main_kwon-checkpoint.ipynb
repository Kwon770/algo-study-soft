{
 "cells": [
  {
   "cell_type": "code",
   "execution_count": 14,
   "id": "9320e4a2",
   "metadata": {},
   "outputs": [
    {
     "name": "stdout",
     "output_type": "stream",
     "text": [
      "AJKDLSI412K4JSJ9D\n",
      "ADDIJJJKKLSS20\n"
     ]
    }
   ],
   "source": [
    "inp = input()\n",
    "\n",
    "alphabets = [0 for _ in range(91)]\n",
    "nums = 0\n",
    "\n",
    "for char in inp:\n",
    "    if ord(char) < 65:\n",
    "        nums += int(char)\n",
    "    else:\n",
    "        \n",
    "        alphabets[ord(char)] += 1\n",
    "\n",
    "for i in range(1, 91):\n",
    "    for j in range(alphabets[i]):\n",
    "        print(chr(i), end=\"\")\n",
    "print(nums)"
   ]
  },
  {
   "cell_type": "code",
   "execution_count": 10,
   "id": "273eb408",
   "metadata": {},
   "outputs": [
    {
     "name": "stdout",
     "output_type": "stream",
     "text": [
      "b7\n",
      "4\n"
     ]
    }
   ],
   "source": []
  },
  {
   "cell_type": "code",
   "execution_count": null,
   "id": "9560a83b",
   "metadata": {},
   "outputs": [],
   "source": []
  }
 ],
 "metadata": {
  "kernelspec": {
   "display_name": "Python 3 (ipykernel)",
   "language": "python",
   "name": "python3"
  },
  "language_info": {
   "codemirror_mode": {
    "name": "ipython",
    "version": 3
   },
   "file_extension": ".py",
   "mimetype": "text/x-python",
   "name": "python",
   "nbconvert_exporter": "python",
   "pygments_lexer": "ipython3",
   "version": "3.9.9"
  }
 },
 "nbformat": 4,
 "nbformat_minor": 5
}
